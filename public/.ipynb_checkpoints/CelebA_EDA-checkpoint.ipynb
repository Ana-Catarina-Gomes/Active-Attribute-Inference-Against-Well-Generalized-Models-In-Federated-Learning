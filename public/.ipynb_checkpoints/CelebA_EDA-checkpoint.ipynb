{
 "cells": [
  {
   "cell_type": "markdown",
   "id": "271dbce0",
   "metadata": {},
   "source": [
    "# CelebA - EDA:\n",
    "\n",
    "Installed package img2vec_pytorch to run preprocessing.py to get imgs pre-processed by a pre-trained resnet-18 to get an input vector (that represents the image) of size 512."
   ]
  },
  {
   "cell_type": "code",
   "execution_count": 1,
   "id": "5d377a86",
   "metadata": {},
   "outputs": [],
   "source": [
    "import pandas as pd\n",
    "import pickle\n",
    "import numpy as np\n",
    "import seaborn as sns\n",
    "import matplotlib.pyplot as plt\n",
    "from centralized_training import Model, train, test\n",
    "from sklearn.model_selection import train_test_split\n",
    "import torch\n",
    "#from torchvision import datasets, transforms\n",
    "from torch.utils.data import DataLoader, TensorDataset\n",
    "from myFL import Simulation"
   ]
  },
  {
   "cell_type": "markdown",
   "id": "8d3ab89f",
   "metadata": {},
   "source": [
    "## Attributes:"
   ]
  },
  {
   "cell_type": "code",
   "execution_count": 2,
   "id": "909228ce",
   "metadata": {
    "scrolled": true
   },
   "outputs": [],
   "source": [
    "attr_path = 'data_celebA/celeba/Anno/list_attr_celeba_comma_separated.txt'\n",
    "attr_csv = pd.read_csv(attr_path, sep=' ').drop('Unnamed: 41', axis=1, inplace=False)"
   ]
  },
  {
   "cell_type": "code",
   "execution_count": 3,
   "id": "5805c5b8",
   "metadata": {},
   "outputs": [
    {
     "name": "stdout",
     "output_type": "stream",
     "text": [
      "5_o_Clock_Shadow\n",
      "0    0.888864\n",
      "1    0.111136\n",
      "Name: proportion, dtype: float64\n",
      "Arched_Eyebrows\n",
      "0    0.733019\n",
      "1    0.266981\n",
      "Name: proportion, dtype: float64\n",
      "Attractive\n",
      "1    0.512505\n",
      "0    0.487495\n",
      "Name: proportion, dtype: float64\n",
      "Bags_Under_Eyes\n",
      "0    0.795428\n",
      "1    0.204572\n",
      "Name: proportion, dtype: float64\n",
      "Bald\n",
      "0    0.977557\n",
      "1    0.022443\n",
      "Name: proportion, dtype: float64\n",
      "Bangs\n",
      "0    0.848425\n",
      "1    0.151575\n",
      "Name: proportion, dtype: float64\n",
      "Big_Lips\n",
      "0    0.759204\n",
      "1    0.240796\n",
      "Name: proportion, dtype: float64\n",
      "Big_Nose\n",
      "0    0.765468\n",
      "1    0.234532\n",
      "Name: proportion, dtype: float64\n",
      "Black_Hair\n",
      "0    0.760749\n",
      "1    0.239251\n",
      "Name: proportion, dtype: float64\n",
      "Blond_Hair\n",
      "0    0.852008\n",
      "1    0.147992\n",
      "Name: proportion, dtype: float64\n",
      "Blurry\n",
      "0    0.949101\n",
      "1    0.050899\n",
      "Name: proportion, dtype: float64\n",
      "Brown_Hair\n",
      "0    0.794806\n",
      "1    0.205194\n",
      "Name: proportion, dtype: float64\n",
      "Bushy_Eyebrows\n",
      "0    0.857832\n",
      "1    0.142168\n",
      "Name: proportion, dtype: float64\n",
      "Chubby\n",
      "0    0.942433\n",
      "1    0.057567\n",
      "Name: proportion, dtype: float64\n",
      "Double_Chin\n",
      "0    0.953312\n",
      "1    0.046688\n",
      "Name: proportion, dtype: float64\n",
      "Eyeglasses\n",
      "0    0.934881\n",
      "1    0.065119\n",
      "Name: proportion, dtype: float64\n",
      "Goatee\n",
      "0    0.937236\n",
      "1    0.062764\n",
      "Name: proportion, dtype: float64\n",
      "Gray_Hair\n",
      "0    0.95805\n",
      "1    0.04195\n",
      "Name: proportion, dtype: float64\n",
      "Heavy_Makeup\n",
      "0    0.613078\n",
      "1    0.386922\n",
      "Name: proportion, dtype: float64\n",
      "High_Cheekbones\n",
      "0    0.544968\n",
      "1    0.455032\n",
      "Name: proportion, dtype: float64\n",
      "Male\n",
      "0    0.583246\n",
      "1    0.416754\n",
      "Name: proportion, dtype: float64\n",
      "Mouth_Slightly_Open\n",
      "0    0.516572\n",
      "1    0.483428\n",
      "Name: proportion, dtype: float64\n",
      "Mustache\n",
      "0    0.958455\n",
      "1    0.041545\n",
      "Name: proportion, dtype: float64\n",
      "Narrow_Eyes\n",
      "0    0.884851\n",
      "1    0.115149\n",
      "Name: proportion, dtype: float64\n",
      "No_Beard\n",
      "1    0.83494\n",
      "0    0.16506\n",
      "Name: proportion, dtype: float64\n",
      "Oval_Face\n",
      "0    0.715857\n",
      "1    0.284143\n",
      "Name: proportion, dtype: float64\n",
      "Pale_Skin\n",
      "0    0.957053\n",
      "1    0.042947\n",
      "Name: proportion, dtype: float64\n",
      "Pointy_Nose\n",
      "0    0.722555\n",
      "1    0.277445\n",
      "Name: proportion, dtype: float64\n",
      "Receding_Hairline\n",
      "0    0.920222\n",
      "1    0.079778\n",
      "Name: proportion, dtype: float64\n",
      "Rosy_Cheeks\n",
      "0    0.934279\n",
      "1    0.065721\n",
      "Name: proportion, dtype: float64\n",
      "Sideburns\n",
      "0    0.943489\n",
      "1    0.056511\n",
      "Name: proportion, dtype: float64\n",
      "Smiling\n",
      "0    0.51792\n",
      "1    0.48208\n",
      "Name: proportion, dtype: float64\n",
      "Straight_Hair\n",
      "0    0.791598\n",
      "1    0.208402\n",
      "Name: proportion, dtype: float64\n",
      "Wavy_Hair\n",
      "0    0.680433\n",
      "1    0.319567\n",
      "Name: proportion, dtype: float64\n",
      "Wearing_Earrings\n",
      "0    0.811075\n",
      "1    0.188925\n",
      "Name: proportion, dtype: float64\n",
      "Wearing_Hat\n",
      "0    0.95154\n",
      "1    0.04846\n",
      "Name: proportion, dtype: float64\n",
      "Wearing_Lipstick\n",
      "0    0.527564\n",
      "1    0.472436\n",
      "Name: proportion, dtype: float64\n",
      "Wearing_Necklace\n",
      "0    0.877033\n",
      "1    0.122967\n",
      "Name: proportion, dtype: float64\n",
      "Wearing_Necktie\n",
      "0    0.927285\n",
      "1    0.072715\n",
      "Name: proportion, dtype: float64\n",
      "Young\n",
      "1    0.773617\n",
      "0    0.226383\n",
      "Name: proportion, dtype: float64\n"
     ]
    }
   ],
   "source": [
    "for col in attr_csv.columns[1:]:\n",
    "    print(attr_csv[col].value_counts(normalize=True))"
   ]
  },
  {
   "cell_type": "code",
   "execution_count": 4,
   "id": "c34c44fa",
   "metadata": {},
   "outputs": [],
   "source": [
    "col_index = dict(zip(np.arange(0, 40), attr_csv.columns[1:]))"
   ]
  },
  {
   "cell_type": "code",
   "execution_count": 5,
   "id": "3699777c",
   "metadata": {
    "scrolled": false
   },
   "outputs": [
    {
     "data": {
      "text/plain": [
       "<Axes: >"
      ]
     },
     "execution_count": 5,
     "metadata": {},
     "output_type": "execute_result"
    },
    {
     "data": {
      "image/png": "[encoded data removed]",
      "text/plain": [
       "<Figure size 1000x750 with 2 Axes>"
      ]
     },
     "metadata": {},
     "output_type": "display_data"
    }
   ],
   "source": [
    "corr = attr_csv.drop('index', axis=1, inplace=False).corr()\n",
    "corr.columns = np.arange(0, len(corr.columns))\n",
    "corr.index = np.arange(0, len(corr.index))\n",
    "croped_corr = corr.apply(lambda x: [y if y >= 0.25 or y <= -0.25 else 0.0 for y in x])\n",
    "fig, axs = plt.subplots(1, 1, figsize=(10, 7.5))\n",
    "sns.heatmap(croped_corr, cmap='coolwarm', ax=axs) # plot with color only those that are greater than 0.25 in absolute value"
   ]
  },
  {
   "cell_type": "markdown",
   "id": "21005495",
   "metadata": {},
   "source": [
    "## Predicting attrative feature:\n",
    "\n",
    "Use the most correlated features together with the image (as a vector of 512 from resnet-18) to predict if the person is attractive."
   ]
  },
  {
   "cell_type": "code",
   "execution_count": 6,
   "id": "5f96e3ad",
   "metadata": {},
   "outputs": [
    {
     "name": "stdout",
     "output_type": "stream",
     "text": [
      "Arched_Eyebrows (0.2506)\n",
      "Big_Nose (-0.2771)\n",
      "Heavy_Makeup (0.4771)\n",
      "Male (-0.3945)\n",
      "Wearing_Lipstick (0.4801)\n",
      "Young (0.3877)\n"
     ]
    }
   ],
   "source": [
    "predictors = list(np.where(croped_corr.iloc[:,2] != 0.0)[0])\n",
    "\n",
    "for f in predictors:\n",
    "    if f != 2:\n",
    "        print(col_index[f], f'({np.round(croped_corr.iloc[f,2], 4)})')"
   ]
  },
  {
   "cell_type": "code",
   "execution_count": 7,
   "id": "e778480a",
   "metadata": {},
   "outputs": [],
   "source": [
    "import os\n",
    "IMG_PATH='data_celebA/celeba/Img/img_align_celeba/img_align_celeba/'\n",
    "IMG2VEC_PATH = 'data_celebA/celeba_img2vec_resnet/'\n",
    "samples = sorted(os.listdir(IMG_PATH))"
   ]
  },
  {
   "cell_type": "code",
   "execution_count": 8,
   "id": "8c65e9c1",
   "metadata": {},
   "outputs": [
    {
     "data": {
      "text/plain": [
       "torch.Size([202599, 6])"
      ]
     },
     "execution_count": 8,
     "metadata": {},
     "output_type": "execute_result"
    }
   ],
   "source": [
    "cols = [col_index[c] for c in predictors]\n",
    "cols.remove('Attractive')\n",
    "labels = attr_csv['Attractive']\n",
    "features = torch.tensor(attr_csv[cols].values)\n",
    "features.shape"
   ]
  },
  {
   "cell_type": "code",
   "execution_count": 9,
   "id": "4139eef9",
   "metadata": {},
   "outputs": [
    {
     "data": {
      "text/plain": [
       "tensor([1, 0, 1, 0, 1, 1])"
      ]
     },
     "execution_count": 9,
     "metadata": {},
     "output_type": "execute_result"
    }
   ],
   "source": [
    "features[0]"
   ]
  },
  {
   "cell_type": "code",
   "execution_count": 61,
   "id": "fa0308af",
   "metadata": {},
   "outputs": [
    {
     "name": "stderr",
     "output_type": "stream",
     "text": [
      "C:\\Users\\anaca\\AppData\\Local\\Temp\\ipykernel_26360\\2891331399.py:3: FutureWarning: You are using `torch.load` with `weights_only=False` (the current default value), which uses the default pickle module implicitly. It is possible to construct malicious pickle data which will execute arbitrary code during unpickling (See https://github.com/pytorch/pytorch/blob/main/SECURITY.md#untrusted-models for more details). In a future release, the default value for `weights_only` will be flipped to `True`. This limits the functions that could be executed during unpickling. Arbitrary objects will no longer be allowed to be loaded via this mode unless they are explicitly allowlisted by the user via `torch.serialization.add_safe_globals`. We recommend you start setting `weights_only=True` for any use case where you don't have full control of the loaded file. Please open an issue on GitHub for any issues related to this experimental feature.\n",
      "  img.append(torch.load(IMG2VEC_PATH + sample))\n"
     ]
    }
   ],
   "source": [
    "img = []\n",
    "for sample in samples[0:10000]:\n",
    "    img.append(torch.load(IMG2VEC_PATH + sample))\n",
    "img = torch.stack(img)"
   ]
  },
  {
   "cell_type": "code",
   "execution_count": 62,
   "id": "1c1c83ad",
   "metadata": {},
   "outputs": [
    {
     "name": "stderr",
     "output_type": "stream",
     "text": [
      "C:\\Users\\anaca\\AppData\\Local\\Temp\\ipykernel_26360\\2572252557.py:1: UserWarning: To copy construct from a tensor, it is recommended to use sourceTensor.clone().detach() or sourceTensor.clone().detach().requires_grad_(True), rather than torch.tensor(sourceTensor).\n",
      "  inputs = torch.cat((torch.tensor(img), features[0:10000]), 1)\n"
     ]
    },
    {
     "data": {
      "text/plain": [
       "torch.Size([10000, 518])"
      ]
     },
     "execution_count": 62,
     "metadata": {},
     "output_type": "execute_result"
    }
   ],
   "source": [
    "inputs = torch.cat((torch.tensor(img), features[0:10000]), 1)\n",
    "inputs.shape"
   ]
  },
  {
   "cell_type": "code",
   "execution_count": 66,
   "id": "e35a7e23",
   "metadata": {},
   "outputs": [
    {
     "data": {
      "text/plain": [
       "(10000,)"
      ]
     },
     "execution_count": 66,
     "metadata": {},
     "output_type": "execute_result"
    }
   ],
   "source": [
    "labels = attr_csv['Attractive'][0:10000]\n",
    "labels.shape"
   ]
  },
  {
   "cell_type": "code",
   "execution_count": 75,
   "id": "6abf2df9",
   "metadata": {},
   "outputs": [
    {
     "name": "stderr",
     "output_type": "stream",
     "text": [
      "C:\\Users\\anaca\\AppData\\Local\\Temp\\ipykernel_26360\\3785186708.py:1: UserWarning: torch.range is deprecated and will be removed in a future release because its behavior is inconsistent with Python's range builtin. Instead, use torch.arange, which produces values in [start, end).\n",
      "  torch.range(start=0, end=9999).shape\n"
     ]
    },
    {
     "data": {
      "text/plain": [
       "torch.Size([10000])"
      ]
     },
     "execution_count": 75,
     "metadata": {},
     "output_type": "execute_result"
    }
   ],
   "source": [
    "torch.range(start=0, end=9999).shape"
   ]
  },
  {
   "cell_type": "code",
   "execution_count": 93,
   "id": "d86da773",
   "metadata": {
    "scrolled": true
   },
   "outputs": [
    {
     "name": "stderr",
     "output_type": "stream",
     "text": [
      "C:\\Users\\anaca\\AppData\\Local\\Temp\\ipykernel_26360\\3255720065.py:1: UserWarning: torch.range is deprecated and will be removed in a future release because its behavior is inconsistent with Python's range builtin. Instead, use torch.arange, which produces values in [start, end).\n",
      "  train_idx, test_idx = torch.split(torch.range(start=0, end=9999), [int(0.8*10000), int(0.2*10000)], dim=0)\n"
     ]
    }
   ],
   "source": [
    "train_idx, test_idx = torch.split(torch.range(start=0, end=9999), [int(0.8*10000), int(0.2*10000)], dim=0)\n",
    "train_loader = DataLoader(TensorDataset(inputs[train_idx.int()], torch.tensor(labels[list(train_idx.int())].values, dtype=torch.float32)), batch_size=10)\n",
    "test_loader = DataLoader(TensorDataset(inputs[test_idx.int()], torch.tensor(labels[list(test_idx.int())].values, dtype=torch.float32)), batch_size=10)"
   ]
  },
  {
   "cell_type": "markdown",
   "id": "edbb2cdd",
   "metadata": {},
   "source": [
    "### Centralized learning:"
   ]
  },
  {
   "cell_type": "code",
   "execution_count": 64,
   "id": "ec900e0a",
   "metadata": {},
   "outputs": [
    {
     "name": "stdout",
     "output_type": "stream",
     "text": [
      "ELU alpha = -2\n",
      "ELU alpha = -2\n"
     ]
    }
   ],
   "source": [
    "# centralized training to define architecture\n",
    "params_dict = {'linears': [(518, 1024), (1024, 512), (512, 1)],\n",
    "               'actvs': ['ELU', 'ELU', 'Sigmoid'],\n",
    "               'loss': 'BCELoss', 'optimizer': 'Adam'}\n",
    "\n",
    "model = Model(params_dict)"
   ]
  },
  {
   "cell_type": "code",
   "execution_count": 95,
   "id": "acd38b54",
   "metadata": {},
   "outputs": [
    {
     "name": "stdout",
     "output_type": "stream",
     "text": [
      "Loss: 0.4163\n",
      "accuracy_score: 0.8087\n",
      "f1_score: 0.8109\n",
      "recall_score: 0.8040\n",
      "precision_score: 0.8180\n",
      "roc_auc_score: 0.8938\n",
      "Loss: 0.4516\n",
      "accuracy_score: 0.7985\n",
      "f1_score: 0.8035\n",
      "recall_score: 0.7969\n",
      "precision_score: 0.8102\n",
      "roc_auc_score: 0.8767\n"
     ]
    }
   ],
   "source": [
    "torch.manual_seed(42)\n",
    "DEVICE = torch.device('cpu')\n",
    "model, rs_train = train(train_loader, model, DEVICE, lr=0.001, epochs=5, verbose=True)\n",
    "rs_test = test(test_loader, model, DEVICE, verbose=True)"
   ]
  },
  {
   "cell_type": "markdown",
   "id": "137ac7df",
   "metadata": {},
   "source": [
    "### Federated learning:\n",
    "\n",
    "Clients cannot be separated by identity because the maximum of imgs per identity is 35. Instead lets divide the dataset into 10 randomly sampled clients."
   ]
  },
  {
   "cell_type": "code",
   "execution_count": 10,
   "id": "75b6319c",
   "metadata": {},
   "outputs": [
    {
     "name": "stderr",
     "output_type": "stream",
     "text": [
      "C:\\Users\\anaca\\AppData\\Local\\Temp\\ipykernel_18140\\4108158015.py:3: FutureWarning: You are using `torch.load` with `weights_only=False` (the current default value), which uses the default pickle module implicitly. It is possible to construct malicious pickle data which will execute arbitrary code during unpickling (See https://github.com/pytorch/pytorch/blob/main/SECURITY.md#untrusted-models for more details). In a future release, the default value for `weights_only` will be flipped to `True`. This limits the functions that could be executed during unpickling. Arbitrary objects will no longer be allowed to be loaded via this mode unless they are explicitly allowlisted by the user via `torch.serialization.add_safe_globals`. We recommend you start setting `weights_only=True` for any use case where you don't have full control of the loaded file. Please open an issue on GitHub for any issues related to this experimental feature.\n",
      "  img.append(torch.load(IMG2VEC_PATH + sample))\n"
     ]
    }
   ],
   "source": [
    "img = []\n",
    "for sample in samples[0:200000]:\n",
    "    img.append(torch.load(IMG2VEC_PATH + sample))\n",
    "img = torch.stack(img)"
   ]
  },
  {
   "cell_type": "code",
   "execution_count": 11,
   "id": "c5eb49d7",
   "metadata": {},
   "outputs": [
    {
     "name": "stderr",
     "output_type": "stream",
     "text": [
      "C:\\Users\\anaca\\AppData\\Local\\Temp\\ipykernel_18140\\2527904959.py:3: FutureWarning: You are using `torch.load` with `weights_only=False` (the current default value), which uses the default pickle module implicitly. It is possible to construct malicious pickle data which will execute arbitrary code during unpickling (See https://github.com/pytorch/pytorch/blob/main/SECURITY.md#untrusted-models for more details). In a future release, the default value for `weights_only` will be flipped to `True`. This limits the functions that could be executed during unpickling. Arbitrary objects will no longer be allowed to be loaded via this mode unless they are explicitly allowlisted by the user via `torch.serialization.add_safe_globals`. We recommend you start setting `weights_only=True` for any use case where you don't have full control of the loaded file. Please open an issue on GitHub for any issues related to this experimental feature.\n",
      "  img_rest.append(torch.load(IMG2VEC_PATH + sample))\n"
     ]
    }
   ],
   "source": [
    "img_rest = []\n",
    "for sample in samples[200000:]:\n",
    "    img_rest.append(torch.load(IMG2VEC_PATH + sample))\n",
    "img_rest = torch.stack(img_rest)"
   ]
  },
  {
   "cell_type": "code",
   "execution_count": 18,
   "id": "0176ae4b",
   "metadata": {},
   "outputs": [],
   "source": [
    "imgs = torch.cat([img, img_rest], dim=0)"
   ]
  },
  {
   "cell_type": "code",
   "execution_count": 19,
   "id": "efa513ea",
   "metadata": {},
   "outputs": [
    {
     "name": "stderr",
     "output_type": "stream",
     "text": [
      "C:\\Users\\anaca\\AppData\\Local\\Temp\\ipykernel_18140\\1742150834.py:1: UserWarning: To copy construct from a tensor, it is recommended to use sourceTensor.clone().detach() or sourceTensor.clone().detach().requires_grad_(True), rather than torch.tensor(sourceTensor).\n",
      "  inputs = torch.cat((torch.tensor(imgs), features), 1)\n"
     ]
    },
    {
     "data": {
      "text/plain": [
       "torch.Size([202599, 518])"
      ]
     },
     "execution_count": 19,
     "metadata": {},
     "output_type": "execute_result"
    }
   ],
   "source": [
    "inputs = torch.cat((torch.tensor(imgs), features), 1)\n",
    "inputs.shape"
   ]
  },
  {
   "cell_type": "code",
   "execution_count": 20,
   "id": "c3c13412",
   "metadata": {},
   "outputs": [
    {
     "data": {
      "text/plain": [
       "(202599,)"
      ]
     },
     "execution_count": 20,
     "metadata": {},
     "output_type": "execute_result"
    }
   ],
   "source": [
    "labels = attr_csv['Attractive']\n",
    "labels.shape"
   ]
  },
  {
   "cell_type": "code",
   "execution_count": 125,
   "id": "abc62d7b",
   "metadata": {},
   "outputs": [
    {
     "data": {
      "text/plain": [
       "(100000, 2)"
      ]
     },
     "execution_count": 125,
     "metadata": {},
     "output_type": "execute_result"
    }
   ],
   "source": [
    "# REMOVE\n",
    "id_csv = pd.read_csv('data_celebA/celeba/Anno/identity_CelebA.txt', sep=' ', header=None)[0:100000]\n",
    "id_csv.columns = ['idx', 'Identity']\n",
    "identities = np.unique(id_csv.iloc[:, 1])\n",
    "id_csv.shape"
   ]
  },
  {
   "cell_type": "code",
   "execution_count": 29,
   "id": "1fb97a1b",
   "metadata": {
    "scrolled": true
   },
   "outputs": [],
   "source": [
    "torch.manual_seed(seed=1126)\n",
    "n = len(inputs) - 5009 # 5009 = shadow size\n",
    "splits = [int(n/10) for _ in range(10)]\n",
    "splits.append(5009)\n",
    "idx = torch.split(torch.arange(0, len(inputs)), splits)\n",
    "local_training_datasets, local_testing_datasets = [], []\n",
    "\n",
    "for i in range(len(idx[:-1])):\n",
    "    local_inputs, local_labels = inputs[idx[i]], labels[list(idx[i])]\n",
    "    train_idx, test_idx = torch.split(idx[i], [int(0.8*len(idx[i])), len(idx[i]) - int(0.8*len(idx[i]))], dim=0)\n",
    "    local_train_loader = DataLoader(TensorDataset(inputs[train_idx.int()], torch.tensor(labels[list(train_idx.int())].values, dtype=torch.float32)), batch_size=100)\n",
    "    local_test_loader = DataLoader(TensorDataset(inputs[test_idx.int()], torch.tensor(labels[list(test_idx.int())].values, dtype=torch.float32)), batch_size=100)\n",
    "    local_training_datasets.append(local_train_loader)\n",
    "    local_testing_datasets.append(local_test_loader)"
   ]
  },
  {
   "cell_type": "code",
   "execution_count": 32,
   "id": "075af54f",
   "metadata": {},
   "outputs": [],
   "source": [
    "from myFL import Simulation\n",
    "\n",
    "params_dict = {'linears': [(518, 1024), (1024, 512), (512, 1)],\n",
    "               'actvs': ['ELU', 'ELU', 'Sigmoid'],\n",
    "               'loss': 'BCELoss', 'optimizer': 'Adam'}\n",
    "\n",
    "DEVICE = torch.device('cpu')\n",
    "\n",
    "fl_training = Simulation(seed=1126, strategy='FedAVG',\n",
    "                         n_clients=10,\n",
    "                         clients_training_data=local_training_datasets,\n",
    "                         clients_test_data=local_testing_datasets,\n",
    "                         params_dict=params_dict,\n",
    "                         hyperparameters={'lr': 0.001, 'epochs': 5, 'DEVICE': DEVICE, 'verbose':False},\n",
    "                         save_path='celeba_fl_model_5009.pth') # RETRAIN THIS MODEL 'census_fl_model_6432.pth'"
   ]
  },
  {
   "cell_type": "code",
   "execution_count": 33,
   "id": "1323bff4",
   "metadata": {},
   "outputs": [
    {
     "name": "stdout",
     "output_type": "stream",
     "text": [
      "ELU alpha = -2\n",
      "ELU alpha = -2\n",
      "Starting FL training ...\n",
      "tensor(27.9825)\n",
      "tensor(-0.5014)\n",
      "tensor(7.2967)\n",
      "tensor(-0.2775)\n",
      "tensor(0.9451)\n",
      "tensor(0.0218)\n",
      "- Round 0\n",
      "Training report\n",
      "        accuracy   0.80208768\n",
      "\n",
      "        f1         0.81016822\n",
      "\n",
      "        recall     0.82625980\n",
      "\n",
      "        precision  0.79852672\n",
      "\n",
      "        roc        0.89163696\n",
      "\n",
      "Testing report\n",
      "        accuracy   0.78712045\n",
      "\n",
      "        f1         0.79545934\n",
      "\n",
      "        recall     0.81509259\n",
      "\n",
      "        precision  0.78020340\n",
      "\n",
      "        roc        0.87510443\n",
      "\n"
     ]
    }
   ],
   "source": [
    "fl_training.start(DEVICE, rounds=1, global_model=None) # training and testign report are the avg of local metrics"
   ]
  },
  {
   "cell_type": "code",
   "execution_count": 34,
   "id": "f0bab477",
   "metadata": {
    "scrolled": true
   },
   "outputs": [
    {
     "name": "stdout",
     "output_type": "stream",
     "text": [
      "ELU alpha = -2\n",
      "ELU alpha = -2\n",
      "\n",
      "Client 0\n"
     ]
    },
    {
     "name": "stderr",
     "output_type": "stream",
     "text": [
      "C:\\Users\\anaca\\AppData\\Local\\Temp\\ipykernel_18140\\472318609.py:2: FutureWarning: You are using `torch.load` with `weights_only=False` (the current default value), which uses the default pickle module implicitly. It is possible to construct malicious pickle data which will execute arbitrary code during unpickling (See https://github.com/pytorch/pytorch/blob/main/SECURITY.md#untrusted-models for more details). In a future release, the default value for `weights_only` will be flipped to `True`. This limits the functions that could be executed during unpickling. Arbitrary objects will no longer be allowed to be loaded via this mode unless they are explicitly allowlisted by the user via `torch.serialization.add_safe_globals`. We recommend you start setting `weights_only=True` for any use case where you don't have full control of the loaded file. Please open an issue on GitHub for any issues related to this experimental feature.\n",
      "  fl_model.load_state_dict(torch.load('celeba_fl_model_5009.pth')) # trained for 2 rounds\n",
      "c:\\users\\anaca\\appdata\\local\\programs\\python\\python39\\lib\\site-packages\\sklearn\\metrics\\_classification.py:1318: UndefinedMetricWarning: Precision is ill-defined and being set to 0.0 due to no predicted samples. Use `zero_division` parameter to control this behavior.\n",
      "  _warn_prf(average, modifier, msg_start, len(result))\n"
     ]
    },
    {
     "name": "stdout",
     "output_type": "stream",
     "text": [
      "Loss: 0.8456\n",
      "accuracy_score: 0.4865\n",
      "f1_score: 0.0000\n",
      "recall_score: 0.0000\n",
      "precision_score: 0.0000\n",
      "roc_auc_score: 0.8717\n",
      "\n",
      "Client 1\n"
     ]
    },
    {
     "name": "stderr",
     "output_type": "stream",
     "text": [
      "c:\\users\\anaca\\appdata\\local\\programs\\python\\python39\\lib\\site-packages\\sklearn\\metrics\\_classification.py:1318: UndefinedMetricWarning: Precision is ill-defined and being set to 0.0 due to no predicted samples. Use `zero_division` parameter to control this behavior.\n",
      "  _warn_prf(average, modifier, msg_start, len(result))\n"
     ]
    },
    {
     "name": "stdout",
     "output_type": "stream",
     "text": [
      "Loss: 0.8482\n",
      "accuracy_score: 0.4855\n",
      "f1_score: 0.0000\n",
      "recall_score: 0.0000\n",
      "precision_score: 0.0000\n",
      "roc_auc_score: 0.8682\n",
      "\n",
      "Client 2\n"
     ]
    },
    {
     "name": "stderr",
     "output_type": "stream",
     "text": [
      "c:\\users\\anaca\\appdata\\local\\programs\\python\\python39\\lib\\site-packages\\sklearn\\metrics\\_classification.py:1318: UndefinedMetricWarning: Precision is ill-defined and being set to 0.0 due to no predicted samples. Use `zero_division` parameter to control this behavior.\n",
      "  _warn_prf(average, modifier, msg_start, len(result))\n"
     ]
    },
    {
     "name": "stdout",
     "output_type": "stream",
     "text": [
      "Loss: 0.8374\n",
      "accuracy_score: 0.4922\n",
      "f1_score: 0.0000\n",
      "recall_score: 0.0000\n",
      "precision_score: 0.0000\n",
      "roc_auc_score: 0.8747\n",
      "\n",
      "Client 3\n"
     ]
    },
    {
     "name": "stderr",
     "output_type": "stream",
     "text": [
      "c:\\users\\anaca\\appdata\\local\\programs\\python\\python39\\lib\\site-packages\\sklearn\\metrics\\_classification.py:1318: UndefinedMetricWarning: Precision is ill-defined and being set to 0.0 due to no predicted samples. Use `zero_division` parameter to control this behavior.\n",
      "  _warn_prf(average, modifier, msg_start, len(result))\n"
     ]
    },
    {
     "name": "stdout",
     "output_type": "stream",
     "text": [
      "Loss: 0.8473\n",
      "accuracy_score: 0.4854\n",
      "f1_score: 0.0000\n",
      "recall_score: 0.0000\n",
      "precision_score: 0.0000\n",
      "roc_auc_score: 0.8682\n",
      "\n",
      "Client 4\n"
     ]
    },
    {
     "name": "stderr",
     "output_type": "stream",
     "text": [
      "c:\\users\\anaca\\appdata\\local\\programs\\python\\python39\\lib\\site-packages\\sklearn\\metrics\\_classification.py:1318: UndefinedMetricWarning: Precision is ill-defined and being set to 0.0 due to no predicted samples. Use `zero_division` parameter to control this behavior.\n",
      "  _warn_prf(average, modifier, msg_start, len(result))\n"
     ]
    },
    {
     "name": "stdout",
     "output_type": "stream",
     "text": [
      "Loss: 0.8492\n",
      "accuracy_score: 0.4832\n",
      "f1_score: 0.0000\n",
      "recall_score: 0.0000\n",
      "precision_score: 0.0000\n",
      "roc_auc_score: 0.8698\n",
      "\n",
      "Client 5\n"
     ]
    },
    {
     "name": "stderr",
     "output_type": "stream",
     "text": [
      "c:\\users\\anaca\\appdata\\local\\programs\\python\\python39\\lib\\site-packages\\sklearn\\metrics\\_classification.py:1318: UndefinedMetricWarning: Precision is ill-defined and being set to 0.0 due to no predicted samples. Use `zero_division` parameter to control this behavior.\n",
      "  _warn_prf(average, modifier, msg_start, len(result))\n"
     ]
    },
    {
     "name": "stdout",
     "output_type": "stream",
     "text": [
      "Loss: 0.8441\n",
      "accuracy_score: 0.4886\n",
      "f1_score: 0.0000\n",
      "recall_score: 0.0000\n",
      "precision_score: 0.0000\n",
      "roc_auc_score: 0.8686\n",
      "\n",
      "Client 6\n"
     ]
    },
    {
     "name": "stderr",
     "output_type": "stream",
     "text": [
      "c:\\users\\anaca\\appdata\\local\\programs\\python\\python39\\lib\\site-packages\\sklearn\\metrics\\_classification.py:1318: UndefinedMetricWarning: Precision is ill-defined and being set to 0.0 due to no predicted samples. Use `zero_division` parameter to control this behavior.\n",
      "  _warn_prf(average, modifier, msg_start, len(result))\n"
     ]
    },
    {
     "name": "stdout",
     "output_type": "stream",
     "text": [
      "Loss: 0.8475\n",
      "accuracy_score: 0.4852\n",
      "f1_score: 0.0000\n",
      "recall_score: 0.0000\n",
      "precision_score: 0.0000\n",
      "roc_auc_score: 0.8686\n",
      "\n",
      "Client 7\n"
     ]
    },
    {
     "name": "stderr",
     "output_type": "stream",
     "text": [
      "c:\\users\\anaca\\appdata\\local\\programs\\python\\python39\\lib\\site-packages\\sklearn\\metrics\\_classification.py:1318: UndefinedMetricWarning: Precision is ill-defined and being set to 0.0 due to no predicted samples. Use `zero_division` parameter to control this behavior.\n",
      "  _warn_prf(average, modifier, msg_start, len(result))\n"
     ]
    },
    {
     "name": "stdout",
     "output_type": "stream",
     "text": [
      "Loss: 0.8455\n",
      "accuracy_score: 0.4872\n",
      "f1_score: 0.0000\n",
      "recall_score: 0.0000\n",
      "precision_score: 0.0000\n",
      "roc_auc_score: 0.8710\n",
      "\n",
      "Client 8\n"
     ]
    },
    {
     "name": "stderr",
     "output_type": "stream",
     "text": [
      "c:\\users\\anaca\\appdata\\local\\programs\\python\\python39\\lib\\site-packages\\sklearn\\metrics\\_classification.py:1318: UndefinedMetricWarning: Precision is ill-defined and being set to 0.0 due to no predicted samples. Use `zero_division` parameter to control this behavior.\n",
      "  _warn_prf(average, modifier, msg_start, len(result))\n"
     ]
    },
    {
     "name": "stdout",
     "output_type": "stream",
     "text": [
      "Loss: 0.8567\n",
      "accuracy_score: 0.4792\n",
      "f1_score: 0.0000\n",
      "recall_score: 0.0000\n",
      "precision_score: 0.0000\n",
      "roc_auc_score: 0.8634\n",
      "\n",
      "Client 9\n",
      "Loss: 0.8354\n",
      "accuracy_score: 0.4947\n",
      "f1_score: 0.0000\n",
      "recall_score: 0.0000\n",
      "precision_score: 0.0000\n",
      "roc_auc_score: 0.8645\n"
     ]
    },
    {
     "name": "stderr",
     "output_type": "stream",
     "text": [
      "c:\\users\\anaca\\appdata\\local\\programs\\python\\python39\\lib\\site-packages\\sklearn\\metrics\\_classification.py:1318: UndefinedMetricWarning: Precision is ill-defined and being set to 0.0 due to no predicted samples. Use `zero_division` parameter to control this behavior.\n",
      "  _warn_prf(average, modifier, msg_start, len(result))\n"
     ]
    }
   ],
   "source": [
    "fl_model = Model(params_dict)\n",
    "fl_model.load_state_dict(torch.load('celeba_fl_model_5009.pth')) # trained for 2 rounds\n",
    "avg_results = {'accuracy_score': 0.0, 'f1_score': 0.0, 'recall_score': 0.0, 'precision_score': 0.0, 'roc_auc_score': 0.0}\n",
    "total = np.sum([len(local_train_loader.dataset) for local_train_loader in local_training_datasets])\n",
    "\n",
    "for c, local_train_loader in enumerate(local_training_datasets):\n",
    "    print(f'\\nClient {c}')\n",
    "    rs_test = test(local_train_loader, fl_model, DEVICE, verbose=True)\n",
    "    size = len(local_train_loader.dataset)\n",
    "    for metric in list(avg_results.keys()):\n",
    "        avg_results[metric] += (size/total)*rs_test[metric]"
   ]
  },
  {
   "cell_type": "code",
   "execution_count": 35,
   "id": "05526e66",
   "metadata": {},
   "outputs": [
    {
     "data": {
      "text/plain": [
       "{'accuracy_score': 0.48675903080913524,\n",
       " 'f1_score': 0.0,\n",
       " 'recall_score': 0.0,\n",
       " 'precision_score': 0.0,\n",
       " 'roc_auc_score': 0.8688667390816912}"
      ]
     },
     "execution_count": 35,
     "metadata": {},
     "output_type": "execute_result"
    }
   ],
   "source": [
    "avg_results"
   ]
  },
  {
   "cell_type": "code",
   "execution_count": 37,
   "id": "58265529",
   "metadata": {
    "scrolled": true
   },
   "outputs": [
    {
     "name": "stdout",
     "output_type": "stream",
     "text": [
      "ELU alpha = -2\n",
      "ELU alpha = -2\n",
      "\n",
      "Client 0\n"
     ]
    },
    {
     "name": "stderr",
     "output_type": "stream",
     "text": [
      "C:\\Users\\anaca\\AppData\\Local\\Temp\\ipykernel_18140\\1659308844.py:2: FutureWarning: You are using `torch.load` with `weights_only=False` (the current default value), which uses the default pickle module implicitly. It is possible to construct malicious pickle data which will execute arbitrary code during unpickling (See https://github.com/pytorch/pytorch/blob/main/SECURITY.md#untrusted-models for more details). In a future release, the default value for `weights_only` will be flipped to `True`. This limits the functions that could be executed during unpickling. Arbitrary objects will no longer be allowed to be loaded via this mode unless they are explicitly allowlisted by the user via `torch.serialization.add_safe_globals`. We recommend you start setting `weights_only=True` for any use case where you don't have full control of the loaded file. Please open an issue on GitHub for any issues related to this experimental feature.\n",
      "  fl_model.load_state_dict(torch.load('celeba_fl_model_5009.pth')) # trained for 2 rounds\n",
      "c:\\users\\anaca\\appdata\\local\\programs\\python\\python39\\lib\\site-packages\\sklearn\\metrics\\_classification.py:1318: UndefinedMetricWarning: Precision is ill-defined and being set to 0.0 due to no predicted samples. Use `zero_division` parameter to control this behavior.\n",
      "  _warn_prf(average, modifier, msg_start, len(result))\n"
     ]
    },
    {
     "name": "stdout",
     "output_type": "stream",
     "text": [
      "Loss: 0.8398\n",
      "accuracy_score: 0.4919\n",
      "f1_score: 0.0000\n",
      "recall_score: 0.0000\n",
      "precision_score: 0.0000\n",
      "roc_auc_score: 0.8625\n",
      "\n",
      "Client 1\n"
     ]
    },
    {
     "name": "stderr",
     "output_type": "stream",
     "text": [
      "c:\\users\\anaca\\appdata\\local\\programs\\python\\python39\\lib\\site-packages\\sklearn\\metrics\\_classification.py:1318: UndefinedMetricWarning: Precision is ill-defined and being set to 0.0 due to no predicted samples. Use `zero_division` parameter to control this behavior.\n",
      "  _warn_prf(average, modifier, msg_start, len(result))\n"
     ]
    },
    {
     "name": "stdout",
     "output_type": "stream",
     "text": [
      "Loss: 0.8556\n",
      "accuracy_score: 0.4772\n",
      "f1_score: 0.0000\n",
      "recall_score: 0.0000\n",
      "precision_score: 0.0000\n",
      "roc_auc_score: 0.8713\n",
      "\n",
      "Client 2\n"
     ]
    },
    {
     "name": "stderr",
     "output_type": "stream",
     "text": [
      "c:\\users\\anaca\\appdata\\local\\programs\\python\\python39\\lib\\site-packages\\sklearn\\metrics\\_classification.py:1318: UndefinedMetricWarning: Precision is ill-defined and being set to 0.0 due to no predicted samples. Use `zero_division` parameter to control this behavior.\n",
      "  _warn_prf(average, modifier, msg_start, len(result))\n"
     ]
    },
    {
     "name": "stdout",
     "output_type": "stream",
     "text": [
      "Loss: 0.8522\n",
      "accuracy_score: 0.4825\n",
      "f1_score: 0.0000\n",
      "recall_score: 0.0000\n",
      "precision_score: 0.0000\n",
      "roc_auc_score: 0.8680\n",
      "\n",
      "Client 3\n"
     ]
    },
    {
     "name": "stderr",
     "output_type": "stream",
     "text": [
      "c:\\users\\anaca\\appdata\\local\\programs\\python\\python39\\lib\\site-packages\\sklearn\\metrics\\_classification.py:1318: UndefinedMetricWarning: Precision is ill-defined and being set to 0.0 due to no predicted samples. Use `zero_division` parameter to control this behavior.\n",
      "  _warn_prf(average, modifier, msg_start, len(result))\n"
     ]
    },
    {
     "name": "stdout",
     "output_type": "stream",
     "text": [
      "Loss: 0.8564\n",
      "accuracy_score: 0.4785\n",
      "f1_score: 0.0000\n",
      "recall_score: 0.0000\n",
      "precision_score: 0.0000\n",
      "roc_auc_score: 0.8702\n",
      "\n",
      "Client 4\n"
     ]
    },
    {
     "name": "stderr",
     "output_type": "stream",
     "text": [
      "c:\\users\\anaca\\appdata\\local\\programs\\python\\python39\\lib\\site-packages\\sklearn\\metrics\\_classification.py:1318: UndefinedMetricWarning: Precision is ill-defined and being set to 0.0 due to no predicted samples. Use `zero_division` parameter to control this behavior.\n",
      "  _warn_prf(average, modifier, msg_start, len(result))\n"
     ]
    },
    {
     "name": "stdout",
     "output_type": "stream",
     "text": [
      "Loss: 0.8333\n",
      "accuracy_score: 0.4962\n",
      "f1_score: 0.0000\n",
      "recall_score: 0.0000\n",
      "precision_score: 0.0000\n",
      "roc_auc_score: 0.8693\n",
      "\n",
      "Client 5\n"
     ]
    },
    {
     "name": "stderr",
     "output_type": "stream",
     "text": [
      "c:\\users\\anaca\\appdata\\local\\programs\\python\\python39\\lib\\site-packages\\sklearn\\metrics\\_classification.py:1318: UndefinedMetricWarning: Precision is ill-defined and being set to 0.0 due to no predicted samples. Use `zero_division` parameter to control this behavior.\n",
      "  _warn_prf(average, modifier, msg_start, len(result))\n"
     ]
    },
    {
     "name": "stdout",
     "output_type": "stream",
     "text": [
      "Loss: 0.8480\n",
      "accuracy_score: 0.4856\n",
      "f1_score: 0.0000\n",
      "recall_score: 0.0000\n",
      "precision_score: 0.0000\n",
      "roc_auc_score: 0.8660\n",
      "\n",
      "Client 6\n"
     ]
    },
    {
     "name": "stderr",
     "output_type": "stream",
     "text": [
      "c:\\users\\anaca\\appdata\\local\\programs\\python\\python39\\lib\\site-packages\\sklearn\\metrics\\_classification.py:1318: UndefinedMetricWarning: Precision is ill-defined and being set to 0.0 due to no predicted samples. Use `zero_division` parameter to control this behavior.\n",
      "  _warn_prf(average, modifier, msg_start, len(result))\n"
     ]
    },
    {
     "name": "stdout",
     "output_type": "stream",
     "text": [
      "Loss: 0.8486\n",
      "accuracy_score: 0.4841\n",
      "f1_score: 0.0000\n",
      "recall_score: 0.0000\n",
      "precision_score: 0.0000\n",
      "roc_auc_score: 0.8697\n",
      "\n",
      "Client 7\n"
     ]
    },
    {
     "name": "stderr",
     "output_type": "stream",
     "text": [
      "c:\\users\\anaca\\appdata\\local\\programs\\python\\python39\\lib\\site-packages\\sklearn\\metrics\\_classification.py:1318: UndefinedMetricWarning: Precision is ill-defined and being set to 0.0 due to no predicted samples. Use `zero_division` parameter to control this behavior.\n",
      "  _warn_prf(average, modifier, msg_start, len(result))\n"
     ]
    },
    {
     "name": "stdout",
     "output_type": "stream",
     "text": [
      "Loss: 0.8366\n",
      "accuracy_score: 0.4919\n",
      "f1_score: 0.0000\n",
      "recall_score: 0.0000\n",
      "precision_score: 0.0000\n",
      "roc_auc_score: 0.8771\n",
      "\n",
      "Client 8\n"
     ]
    },
    {
     "name": "stderr",
     "output_type": "stream",
     "text": [
      "c:\\users\\anaca\\appdata\\local\\programs\\python\\python39\\lib\\site-packages\\sklearn\\metrics\\_classification.py:1318: UndefinedMetricWarning: Precision is ill-defined and being set to 0.0 due to no predicted samples. Use `zero_division` parameter to control this behavior.\n",
      "  _warn_prf(average, modifier, msg_start, len(result))\n"
     ]
    },
    {
     "name": "stdout",
     "output_type": "stream",
     "text": [
      "Loss: 0.8566\n",
      "accuracy_score: 0.4813\n",
      "f1_score: 0.0000\n",
      "recall_score: 0.0000\n",
      "precision_score: 0.0000\n",
      "roc_auc_score: 0.8565\n",
      "\n",
      "Client 9\n",
      "Loss: 0.7996\n",
      "accuracy_score: 0.5235\n",
      "f1_score: 0.0000\n",
      "recall_score: 0.0000\n",
      "precision_score: 0.0000\n",
      "roc_auc_score: 0.8629\n"
     ]
    },
    {
     "name": "stderr",
     "output_type": "stream",
     "text": [
      "c:\\users\\anaca\\appdata\\local\\programs\\python\\python39\\lib\\site-packages\\sklearn\\metrics\\_classification.py:1318: UndefinedMetricWarning: Precision is ill-defined and being set to 0.0 due to no predicted samples. Use `zero_division` parameter to control this behavior.\n",
      "  _warn_prf(average, modifier, msg_start, len(result))\n"
     ]
    }
   ],
   "source": [
    "fl_model = Model(params_dict)\n",
    "fl_model.load_state_dict(torch.load('celeba_fl_model_5009.pth')) # trained for 2 rounds\n",
    "avg_results = {'accuracy_score': 0.0, 'f1_score': 0.0, 'recall_score': 0.0, 'precision_score': 0.0, 'roc_auc_score': 0.0}\n",
    "total = np.sum([len(local_test_loader.dataset) for local_test_loader in local_testing_datasets])\n",
    "\n",
    "for c, local_test_loader in enumerate(local_testing_datasets):\n",
    "    print(f'\\nClient {c}')\n",
    "    rs_test = test(local_test_loader, fl_model, DEVICE, verbose=True)\n",
    "    size = len(local_test_loader.dataset)\n",
    "    for metric in list(avg_results.keys()):\n",
    "        avg_results[metric] += (size/total)*rs_test[metric]"
   ]
  },
  {
   "cell_type": "code",
   "execution_count": 38,
   "id": "fc69e150",
   "metadata": {},
   "outputs": [
    {
     "data": {
      "text/plain": [
       "{'accuracy_score': 0.4892712550607287,\n",
       " 'f1_score': 0.0,\n",
       " 'recall_score': 0.0,\n",
       " 'precision_score': 0.0,\n",
       " 'roc_auc_score': 0.8673465625666448}"
      ]
     },
     "execution_count": 38,
     "metadata": {},
     "output_type": "execute_result"
    }
   ],
   "source": [
    "avg_results"
   ]
  },
  {
   "cell_type": "markdown",
   "id": "97fac2a2",
   "metadata": {},
   "source": [
    "## Save data into a csv file:"
   ]
  },
  {
   "cell_type": "code",
   "execution_count": 43,
   "id": "776fb57c",
   "metadata": {},
   "outputs": [],
   "source": [
    "torch.save(inputs, '../data_celebA/celeba_inputs.pth')\n",
    "torch.save(labels, '../data_celebA/celeba_labels.pth')"
   ]
  },
  {
   "cell_type": "code",
   "execution_count": 69,
   "id": "e5b8d442",
   "metadata": {},
   "outputs": [],
   "source": [
    "local_training_datasets, local_testing_datasets = [], []\n",
    "\n",
    "for i in range(len(idx[:-1])):\n",
    "    local_inputs, local_labels = inputs[idx[i]], labels[list(idx[i])]\n",
    "    train_idx, test_idx = torch.split(idx[i], [int(0.8*len(idx[i])), len(idx[i]) - int(0.8*len(idx[i]))], dim=0)\n",
    "    local_train_loader = DataLoader(TensorDataset(inputs[train_idx.int()], torch.tensor(labels[list(train_idx.int())].values, dtype=torch.float32)))\n",
    "    local_test_loader = DataLoader(TensorDataset(inputs[test_idx.int()], torch.tensor(labels[list(test_idx.int())].values, dtype=torch.float32)))\n",
    "    df = pd.DataFrame(local_train_loader.dataset.tensors[0].numpy())\n",
    "    df['Label'] = local_train_loader.dataset.tensors[1].numpy()\n",
    "    local_training_datasets.append(df)\n",
    "    df = pd.DataFrame(local_test_loader.dataset.tensors[0].numpy())\n",
    "    df['Label'] = local_test_loader.dataset.tensors[1].numpy()\n",
    "    local_testing_datasets.append(df)"
   ]
  },
  {
   "cell_type": "code",
   "execution_count": 90,
   "id": "547d35bc",
   "metadata": {},
   "outputs": [
    {
     "name": "stdout",
     "output_type": "stream",
     "text": [
      "Arched_Eyebrows\n",
      "512\n",
      "0.0    0.734738\n",
      "1.0    0.265262\n",
      "Name: proportion, dtype: float64\n",
      "Big_Nose\n",
      "513\n",
      "0.0    0.761498\n",
      "1.0    0.238502\n",
      "Name: proportion, dtype: float64\n",
      "Heavy_Makeup\n",
      "514\n",
      "0.0    0.613968\n",
      "1.0    0.386032\n",
      "Name: proportion, dtype: float64\n",
      "Male\n",
      "515\n",
      "0.0    0.578351\n",
      "1.0    0.421649\n",
      "Name: proportion, dtype: float64\n",
      "Wearing_Lipstick\n",
      "516\n",
      "0.0    0.529892\n",
      "1.0    0.470108\n",
      "Name: proportion, dtype: float64\n",
      "Young\n",
      "517\n",
      "1.0    0.778832\n",
      "0.0    0.221168\n",
      "Name: proportion, dtype: float64\n"
     ]
    }
   ],
   "source": [
    "cols = local_training_datasets[0].iloc[:, :-1].columns # 512 - 517\n",
    "#predictors.remove(2)\n",
    "\n",
    "for i, col in enumerate(cols[512:]):\n",
    "    print(col_index[predictors[i]])\n",
    "    print(local_training_datasets[0].iloc[:, col].value_counts(normalize=True))"
   ]
  },
  {
   "cell_type": "markdown",
   "id": "9a744eb5",
   "metadata": {},
   "source": [
    "# Report of FL models:\n",
    "\n",
    "Models used for accessing attack performance on the paper were trained with 32 different seeds and the following hyperparmeters:\n",
    "   * __Training rounds:__ 2\n",
    "   * __Local epochs:__ 5\n",
    "   * __Clients:__ random division into 10\n",
    "   * __Shadow dataset:__ 5009 samples (excluded from the training and testing set)\n",
    "   * __Batch size:__ 100\n",
    "   * __Learning rate:__ 0.001\n",
    "   * __Model complexity:__ 518 input layer, 1024 first fully connected layer, 512 second fully connected layer\n",
    "   * __Activation functions:__ For every layer except the last, use ELU (alpha=-2) or ReLU (for AAI and MIA2AIA experiments respectively), for output layer use Sigmoid\n",
    "   * __Optimizer:__ Adam\n",
    "   * __Loss:__ BCELoss\n",
    "   * __Remarks:__ Given that the distribution of the target label is balanced, no oversampling technique is needed.\n",
    "   \n",
    "\n",
    "Models exposed to AAI:\n",
    "   * Train ROC AUC: (88.13, 88.17)\n",
    "   * Test ROC AUC: (87.96, 88.0)\n",
    "   * Train Accuracy: (79.35, 79.47)\n",
    "   * Test Accuracy: (79.12, 79.26)\n",
    "   \n",
    "Models exposed to MIA2AIA:\n",
    "   * Train ROC AUC: (88.47, 88.5)\n",
    "   * Test ROC AUC: (88.24, 88.27)\n",
    "   * Train Accuracy: (79.64, 79.77)\n",
    "   * Test Accuracy: (79.56, 79.67)\n",
    "   \n",
    "Intervals of 90% confidence.\n",
    "\n",
    "Seeds used:\n",
    "\n",
    "    np.random.seed(42)\n",
    "    \n",
    "    seeds = np.random.randint(low=0, high=1234, size=32)"
   ]
  }
 ],
 "metadata": {
  "kernelspec": {
   "display_name": "Python 3 (ipykernel)",
   "language": "python",
   "name": "python3"
  },
  "language_info": {
   "codemirror_mode": {
    "name": "ipython",
    "version": 3
   },
   "file_extension": ".py",
   "mimetype": "text/x-python",
   "name": "python",
   "nbconvert_exporter": "python",
   "pygments_lexer": "ipython3",
   "version": "3.9.0"
  }
 },
 "nbformat": 4,
 "nbformat_minor": 5
}
