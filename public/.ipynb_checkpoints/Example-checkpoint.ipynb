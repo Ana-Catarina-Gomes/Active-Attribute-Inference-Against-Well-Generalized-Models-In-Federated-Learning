{
 "cells": [
  {
   "cell_type": "code",
   "execution_count": 1,
   "id": "4f6e1a7e",
   "metadata": {},
   "outputs": [],
   "source": [
    "from TrainCelebAModels import get_datasets\n",
    "from AAI_single_target import exp\n",
    "from MIA2AIA import exp as exp_mia2aia\n",
    "import numpy as np\n",
    "import pandas as pd\n",
    "import torch"
   ]
  },
  {
   "cell_type": "markdown",
   "id": "937951ba",
   "metadata": {},
   "source": [
    "# How to attack FL models?\n",
    "\n",
    "   1) Train and save model (../celeba_models/ELU/federated_5009_i.pth)\n",
    "   2) Select target sample (if using pandas select by index)\n",
    "   3) Call exp\n",
    "   \n",
    "To get confidence intervals you must iterate several experiences for varying seeds."
   ]
  },
  {
   "cell_type": "markdown",
   "id": "bb57413e",
   "metadata": {},
   "source": [
    "## AAI:\n",
    "\n",
    "Single-target"
   ]
  },
  {
   "cell_type": "code",
   "execution_count": 2,
   "id": "d63fb812",
   "metadata": {},
   "outputs": [
    {
     "data": {
      "text/plain": [
       "array([1126,  860, 1130, 1095, 1044,  121,  466,  330,   87, 1123,  871,\n",
       "        130,  769,  343,  805,  385, 1215,  955,  276, 1184,  459,   21,\n",
       "        252,  747,  856,  474, 1082,  510,  699,  975,  189,  957])"
      ]
     },
     "execution_count": 2,
     "metadata": {},
     "output_type": "execute_result"
    }
   ],
   "source": [
    "np.random.seed(42)\n",
    "seeds = np.random.randint(low=0, high=1234, size=32)\n",
    "seeds"
   ]
  },
  {
   "cell_type": "code",
   "execution_count": 3,
   "id": "5dbee7e0",
   "metadata": {},
   "outputs": [],
   "source": [
    "data_train, data_test, shadow_data = get_datasets(seed=1126, oversample=None, shadow=5009)\n",
    "data_train.reset_index(drop=True, inplace=True)\n",
    "data_test.reset_index(drop=True, inplace=True)\n",
    "\n",
    "unknown = 515 # male feature\n",
    "neg_targets_idx = list(np.random.choice(data_train[data_train.iloc[:, unknown] == 0.0].index, size=1))\n",
    "pos_targets_idx = list(np.random.choice(data_train[data_train.iloc[:, unknown] == 1.0].index, size=1))\n",
    "\n",
    "neg_targets = data_train.loc[neg_targets_idx]\n",
    "pos_targets = data_train.loc[pos_targets_idx]\n",
    "\n",
    "model = '../celeba_models/ELU/federated_5009_0.pth'"
   ]
  },
  {
   "cell_type": "code",
   "execution_count": 4,
   "id": "a047f093",
   "metadata": {
    "scrolled": true
   },
   "outputs": [
    {
     "name": "stdout",
     "output_type": "stream",
     "text": [
      "Train and test shapes:\n",
      "torch.Size([4009, 518]) | torch.Size([4009, 1])\n",
      "torch.Size([1002, 518]) | torch.Size([1002, 1])\n",
      "Training (999 epochs): TNR = 1.0, FPR = 0.0\n",
      "tensor([[398.8165]])\n",
      "tensor([[-4.8604]])\n",
      "Validation: TNR = 1.0, FPR = 0.0, TPR = 1.0, FNR = 0.0\n",
      "\n",
      "Inference phase\n",
      "Attack report:\n",
      "TPR = 1.0 | FNR = 0.0\n",
      "TNR = 0.9999936819076538 | FPR = 6.326310995063977e-06\n",
      "TPR 1.0\n",
      "FPR tensor(6.3263e-06)\n"
     ]
    }
   ],
   "source": [
    "tp, fn, tn, fp, adv_model = exp(numneurons=1024, # nb of neurons from the first fully connected layer\n",
    "                                n_input=518, # input size of target samples\n",
    "                                seed=seeds[0], # fix seed for reproducibility\n",
    "                                unknown=unknown, # index of the sensitive/target attribute\n",
    "                                lr=0.01, # lr of the adversarial network\n",
    "                                shadow=shadow_data, # shadow dataset to train the adversarial network\n",
    "                                epochs=1000, # epochs to train adversarial network\n",
    "                                target=neg_targets, # target samples\n",
    "                                indexes=neg_targets_idx, # index of target samples\n",
    "                                model=model, # path to trained global model\n",
    "                                data_train=data_train, # training data to calculate FPR\n",
    "                                evaluation='theoretical', # type of evaluation desired\n",
    "                                remove=1, # nb of features (counting from the end) to remove (main task label, ...)\n",
    "                                model_w=None, # global model from the training round prior to the attack\n",
    "                                alpha=None, # WADM threshold\n",
    "                                save_path=None # save malicious global model, useful for defenses\n",
    "                               )"
   ]
  },
  {
   "cell_type": "code",
   "execution_count": 6,
   "id": "6d0de236",
   "metadata": {},
   "outputs": [
    {
     "name": "stdout",
     "output_type": "stream",
     "text": [
      "Train and test shapes:\n",
      "torch.Size([4009, 518]) | torch.Size([4009, 1])\n",
      "torch.Size([1002, 518]) | torch.Size([1002, 1])\n",
      "Training (999 epochs): TNR = 1.0, FPR = 0.0\n",
      "tensor([[416.4247]])\n",
      "tensor([[13.8349]])\n",
      "Validation: TNR = 1.0, FPR = 0.0, TPR = 0.5, FNR = 0.5\n",
      "\n",
      "Inference phase\n",
      "Attack report:\n",
      "TPR = 0.0 | FNR = 1.0\n",
      "TNR = 0.9999936819076538 | FPR = 6.326310995063977e-06\n"
     ]
    }
   ],
   "source": [
    "tp, fn, tn, fp, adv_model = exp(numneurons=1024,\n",
    "                                n_input=518,\n",
    "                                seed=seeds[0],\n",
    "                                unknown=unknown,\n",
    "                                lr=0.01,\n",
    "                                shadow=shadow_data,\n",
    "                                epochs=1000,\n",
    "                                target=pos_targets,\n",
    "                                indexes=pos_targets_idx,\n",
    "                                model=model,\n",
    "                                data_train=data_train,\n",
    "                                evaluation='theoretical',\n",
    "                                remove=1,\n",
    "                                model_w=None,\n",
    "                                alpha=None,\n",
    "                                save_path=None\n",
    "                               )"
   ]
  },
  {
   "cell_type": "markdown",
   "id": "e93a6444",
   "metadata": {},
   "source": [
    "## MIA2AIA:\n",
    "\n",
    "Single-target"
   ]
  },
  {
   "cell_type": "code",
   "execution_count": 4,
   "id": "50d6a4e6",
   "metadata": {},
   "outputs": [],
   "source": [
    "model = '../celeba_models/ReLU/federated_5009_0.pth'"
   ]
  },
  {
   "cell_type": "code",
   "execution_count": 5,
   "id": "c00f6432",
   "metadata": {
    "scrolled": true
   },
   "outputs": [
    {
     "name": "stdout",
     "output_type": "stream",
     "text": [
      "Train and test shapes:\n",
      "torch.Size([4009, 518]) | torch.Size([4009, 3])\n",
      "torch.Size([1004, 518]) | torch.Size([1004, 3])\n",
      "Epoch 999: TPR 1.0 | FPR 0.00024950099800402636 | Accuracy 0.9997505612372163\n",
      "Valiation: TPR 1.0 | FPR 0.0009970089730807485 | Accuracy 0.999003984063745\n",
      "Inference phase\n",
      "--------------------------------------\n",
      "Inconclusive\n",
      "Prediction = 0.0\n",
      "Logits tensor([[-10.4412,  10.4156,   8.3968]], grad_fn=<AddmmBackward0>)\n",
      "Truth: 0.0\n",
      "--------------------------------------\n",
      "Attack report:\n",
      "TPR = 1.0 | FNR = 0.0\n",
      "TNR = 0.999993673688872 | FPR = 6.326311127981274e-06\n"
     ]
    }
   ],
   "source": [
    "tp, fn, tn, fp, adv_model = exp_mia2aia(numneurons=1024, # nb of neurons from the first fully connected layer\n",
    "                                        n_input=518, # input size of target samples\n",
    "                                        seed=seeds[0], # fix seed for reproducibility\n",
    "                                        unknown=unknown, # index of the sensitive/target attribute\n",
    "                                        lr=0.0005, # lr of the adversarial network\n",
    "                                        shadow=shadow_data, # shadow dataset to train the adversarial network\n",
    "                                        epochs=1000, # epochs to train adversarial network\n",
    "                                        target=neg_targets, # target samples\n",
    "                                        indexes=neg_targets_idx, # index of target samples\n",
    "                                        model=model, # path to trained global model\n",
    "                                        data_train=data_train, # training data to calculate FPR\n",
    "                                        type_attack='single', # single or multi target attack\n",
    "                                        remove=1, # nb of features (counting from the end) to remove (main task label, ...)\n",
    "                                        evaluation='theoretical', # type of evaluation desired\n",
    "                                        imputation=True, # the attack can fall back to data imputation (predict most frequent value)\n",
    "                                        model_w=None, # global model from the training round prior to the attack\n",
    "                                        alpha=None, # WADM threshold\n",
    "                                        save_path=None # save malicious global model, useful for defenses\n",
    "                                       )"
   ]
  },
  {
   "cell_type": "code",
   "execution_count": 6,
   "id": "50f9b493",
   "metadata": {},
   "outputs": [
    {
     "name": "stdout",
     "output_type": "stream",
     "text": [
      "Train and test shapes:\n",
      "torch.Size([4009, 518]) | torch.Size([4009, 3])\n",
      "torch.Size([1004, 518]) | torch.Size([1004, 3])\n",
      "Epoch 999: TPR 1.0 | FPR 0.001122754491017952 | Accuracy 0.9988775255674731\n",
      "Valiation: TPR 1.0 | FPR 0.0009970089730807485 | Accuracy 0.999003984063745\n",
      "Inference phase\n",
      "--------------------------------------\n",
      "Logits tensor([[-9.0337,  9.1127, -2.3177]], grad_fn=<AddmmBackward0>)\n",
      "Truth: 1.0\n",
      "--------------------------------------\n",
      "Attack report:\n",
      "TPR = 1.0 | FNR = 0.0\n",
      "TNR = 0.9989656481305751 | FPR = 0.0010343518694249383\n"
     ]
    }
   ],
   "source": [
    "tp, fn, tn, fp, adv_model = exp_mia2aia(numneurons=1024,\n",
    "                                        n_input=518,\n",
    "                                        seed=seeds[0],\n",
    "                                        unknown=unknown,\n",
    "                                        lr=0.0005,\n",
    "                                        shadow=shadow_data,\n",
    "                                        epochs=1000,\n",
    "                                        target=pos_targets,\n",
    "                                        indexes=pos_targets_idx,\n",
    "                                        model=model,\n",
    "                                        data_train=data_train,\n",
    "                                        type_attack='multi', # single or multi target attack\n",
    "                                        remove=1,\n",
    "                                        evaluation='theoretical',\n",
    "                                        imputation=True, # the attack can fall back to data imputation (predict most frequent value)\n",
    "                                        model_w=None,\n",
    "                                        alpha=None,\n",
    "                                        save_path=None\n",
    "                                       )"
   ]
  },
  {
   "cell_type": "markdown",
   "id": "a4365fa5",
   "metadata": {},
   "source": [
    "# How to defend against novel active attacks?\n",
    "\n",
    "   1) Monitor and save performance, in terms of accuracy and ROC AUC, of each client during the FL simulation and after receiving the malicious global model (../celeba_models/ELU_monitorization_accuracy_i.csv or ../celeba_models/ELU_monitorization_auc_i.csv)\n",
    "   2) Save malicious global model using parameter save_path of exp (../celeba_models/ELU_attack_515/federated_5009.pth)\n",
    "   3) Call automate_BADAcc, automate_BADAUC or automate_WADM \n",
    "       * Round_2_515: attack occurred after 2 training rounds targeting feature 515"
   ]
  },
  {
   "cell_type": "code",
   "execution_count": 1,
   "id": "0b5314e1",
   "metadata": {},
   "outputs": [],
   "source": [
    "from black_box_defense import automate_BADAcc, automate_BADAUC\n",
    "from WADM import automate_WADM"
   ]
  },
  {
   "cell_type": "code",
   "execution_count": 13,
   "id": "96904e71",
   "metadata": {},
   "outputs": [],
   "source": [
    "monitor_acc = pd.read_csv('../celeba_models/ELU_monitorization_accuracy_0.csv').drop('Unnamed: 0', axis=1, inplace=False)\n",
    "monitor_auc = pd.read_csv('../celeba_models/ELU_monitorization_auc_0.csv').drop('Unnamed: 0', axis=1, inplace=False)"
   ]
  },
  {
   "cell_type": "code",
   "execution_count": 14,
   "id": "8b2b1e85",
   "metadata": {},
   "outputs": [
    {
     "data": {
      "text/html": [
       "<div>\n",
       "<style scoped>\n",
       "    .dataframe tbody tr th:only-of-type {\n",
       "        vertical-align: middle;\n",
       "    }\n",
       "\n",
       "    .dataframe tbody tr th {\n",
       "        vertical-align: top;\n",
       "    }\n",
       "\n",
       "    .dataframe thead th {\n",
       "        text-align: right;\n",
       "    }\n",
       "</style>\n",
       "<table border=\"1\" class=\"dataframe\">\n",
       "  <thead>\n",
       "    <tr style=\"text-align: right;\">\n",
       "      <th></th>\n",
       "      <th>Round_0</th>\n",
       "      <th>Round_1</th>\n",
       "      <th>Round_2_512</th>\n",
       "      <th>Round_2_515</th>\n",
       "      <th>Round_2_513</th>\n",
       "      <th>Round_2_514</th>\n",
       "      <th>Round_2_516</th>\n",
       "      <th>Round_2_517</th>\n",
       "    </tr>\n",
       "  </thead>\n",
       "  <tbody>\n",
       "    <tr>\n",
       "      <th>0</th>\n",
       "      <td>0.513507</td>\n",
       "      <td>0.792054</td>\n",
       "      <td>0.513507</td>\n",
       "      <td>0.513507</td>\n",
       "      <td>0.513507</td>\n",
       "      <td>0.513507</td>\n",
       "      <td>0.513507</td>\n",
       "      <td>0.513507</td>\n",
       "    </tr>\n",
       "    <tr>\n",
       "      <th>1</th>\n",
       "      <td>0.514519</td>\n",
       "      <td>0.789713</td>\n",
       "      <td>0.514519</td>\n",
       "      <td>0.514519</td>\n",
       "      <td>0.514519</td>\n",
       "      <td>0.514519</td>\n",
       "      <td>0.514519</td>\n",
       "      <td>0.514519</td>\n",
       "    </tr>\n",
       "  </tbody>\n",
       "</table>\n",
       "</div>"
      ],
      "text/plain": [
       "    Round_0   Round_1  Round_2_512  Round_2_515  Round_2_513  Round_2_514  \\\n",
       "0  0.513507  0.792054     0.513507     0.513507     0.513507     0.513507   \n",
       "1  0.514519  0.789713     0.514519     0.514519     0.514519     0.514519   \n",
       "\n",
       "   Round_2_516  Round_2_517  \n",
       "0     0.513507     0.513507  \n",
       "1     0.514519     0.514519  "
      ]
     },
     "execution_count": 14,
     "metadata": {},
     "output_type": "execute_result"
    }
   ],
   "source": [
    "monitor_acc.head(2)"
   ]
  },
  {
   "cell_type": "code",
   "execution_count": 15,
   "id": "84da52ff",
   "metadata": {},
   "outputs": [
    {
     "data": {
      "text/html": [
       "<div>\n",
       "<style scoped>\n",
       "    .dataframe tbody tr th:only-of-type {\n",
       "        vertical-align: middle;\n",
       "    }\n",
       "\n",
       "    .dataframe tbody tr th {\n",
       "        vertical-align: top;\n",
       "    }\n",
       "\n",
       "    .dataframe thead th {\n",
       "        text-align: right;\n",
       "    }\n",
       "</style>\n",
       "<table border=\"1\" class=\"dataframe\">\n",
       "  <thead>\n",
       "    <tr style=\"text-align: right;\">\n",
       "      <th></th>\n",
       "      <th>Round_0</th>\n",
       "      <th>Round_1</th>\n",
       "      <th>Round_2_512</th>\n",
       "      <th>Round_2_515</th>\n",
       "      <th>Round_2_513</th>\n",
       "      <th>Round_2_514</th>\n",
       "      <th>Round_2_516</th>\n",
       "      <th>Round_2_517</th>\n",
       "    </tr>\n",
       "  </thead>\n",
       "  <tbody>\n",
       "    <tr>\n",
       "      <th>0</th>\n",
       "      <td>0.375256</td>\n",
       "      <td>0.874770</td>\n",
       "      <td>0.482931</td>\n",
       "      <td>0.482931</td>\n",
       "      <td>0.482931</td>\n",
       "      <td>0.482931</td>\n",
       "      <td>0.482931</td>\n",
       "      <td>0.482931</td>\n",
       "    </tr>\n",
       "    <tr>\n",
       "      <th>1</th>\n",
       "      <td>0.378529</td>\n",
       "      <td>0.873187</td>\n",
       "      <td>0.479201</td>\n",
       "      <td>0.479201</td>\n",
       "      <td>0.479201</td>\n",
       "      <td>0.479201</td>\n",
       "      <td>0.479201</td>\n",
       "      <td>0.479201</td>\n",
       "    </tr>\n",
       "  </tbody>\n",
       "</table>\n",
       "</div>"
      ],
      "text/plain": [
       "    Round_0   Round_1  Round_2_512  Round_2_515  Round_2_513  Round_2_514  \\\n",
       "0  0.375256  0.874770     0.482931     0.482931     0.482931     0.482931   \n",
       "1  0.378529  0.873187     0.479201     0.479201     0.479201     0.479201   \n",
       "\n",
       "   Round_2_516  Round_2_517  \n",
       "0     0.482931     0.482931  \n",
       "1     0.479201     0.479201  "
      ]
     },
     "execution_count": 15,
     "metadata": {},
     "output_type": "execute_result"
    }
   ],
   "source": [
    "monitor_auc.head(2)"
   ]
  },
  {
   "cell_type": "markdown",
   "id": "e3bf106f",
   "metadata": {},
   "source": [
    "### BADAcc:"
   ]
  },
  {
   "cell_type": "code",
   "execution_count": 16,
   "id": "c5222dd2",
   "metadata": {},
   "outputs": [
    {
     "name": "stdout",
     "output_type": "stream",
     "text": [
      "Feature Male:\n",
      "MIA2AIA\n",
      "TPR = (91.82, 101.93) | FPR = (0.0, 0.0) | Missed = (-1.93, 8.18)\n",
      "AAI\n",
      "TPR = (77.88, 97.12) | FPR = (0.0, 0.0) | Missed = (2.88, 22.12)\n"
     ]
    }
   ],
   "source": [
    "automate_BADAcc(feature='Male', # feature name\n",
    "                n=515, # feature index\n",
    "                info_path='../celeba_models/', # path containing monitorization .csv files\n",
    "                sizes=[19759*np.ones(10) for _ in range(32)], # local training datasets size\n",
    "                attack_round=2, # round in which the attack occurs, in this case celeba models are attacked after training for 2 rounds\n",
    "                n_clients=10 # nb of clients\n",
    "               )"
   ]
  },
  {
   "cell_type": "markdown",
   "id": "e1dee51e",
   "metadata": {},
   "source": [
    "### BADAUC:"
   ]
  },
  {
   "cell_type": "code",
   "execution_count": 17,
   "id": "08a801d5",
   "metadata": {},
   "outputs": [
    {
     "name": "stdout",
     "output_type": "stream",
     "text": [
      "Feature Male:\n",
      "MIA2AIA\n",
      "TPR (100.0, 100.0) | FPR = (0.0, 0.0) | Missed = (0.0, 0.0) alpha = 0.005\n",
      "AAI\n",
      "TPR (100.0, 100.0) | FPR = (0.0, 0.0) | Missed = (0.0, 0.0) alpha = 0.005\n"
     ]
    }
   ],
   "source": [
    "automate_BADAUC(feature='Male', # feature name\n",
    "                n=515, # feature index\n",
    "                info_path='../celeba_models/', # path containing monitorization .csv files\n",
    "                attack_round=2, # round in which the attack occurs\n",
    "                n_clients=10 # nb of clients\n",
    "               )"
   ]
  },
  {
   "cell_type": "markdown",
   "id": "7704ae7a",
   "metadata": {},
   "source": [
    "### WADM:"
   ]
  },
  {
   "cell_type": "code",
   "execution_count": 2,
   "id": "c90ef5d4",
   "metadata": {},
   "outputs": [
    {
     "name": "stdout",
     "output_type": "stream",
     "text": [
      "TPR (100.0, 100.0)\n",
      "FPR (-0.0, 0.02)\n",
      "Missed Attacks (0.0, 0.0)\n"
     ]
    }
   ],
   "source": [
    "automate_WADM(dataset='../celeba_models', # path containing models trained for this dataset\n",
    "              attack='ELU', # type of activation function to execute each attack (AAI - ELU, MIA2AIA - ReLU)\n",
    "              attribute='515', # sensitive/target attribute\n",
    "              model='federated_5009', # typical file name of models (should be the same for benign and malicious models)\n",
    "              total_neurons=512, # nb of neurons from the second fully connected layer\n",
    "              N=1 # nb of malicious neurons\n",
    "             )"
   ]
  }
 ],
 "metadata": {
  "kernelspec": {
   "display_name": "Python 3 (ipykernel)",
   "language": "python",
   "name": "python3"
  },
  "language_info": {
   "codemirror_mode": {
    "name": "ipython",
    "version": 3
   },
   "file_extension": ".py",
   "mimetype": "text/x-python",
   "name": "python",
   "nbconvert_exporter": "python",
   "pygments_lexer": "ipython3",
   "version": "3.9.0"
  }
 },
 "nbformat": 4,
 "nbformat_minor": 5
}
